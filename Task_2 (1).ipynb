{
  "nbformat": 4,
  "nbformat_minor": 0,
  "metadata": {
    "colab": {
      "name": "Task 2.ipynb",
      "provenance": [],
      "collapsed_sections": [
        "BJIVwJMhGO2R"
      ]
    },
    "kernelspec": {
      "name": "python3",
      "display_name": "Python 3"
    },
    "language_info": {
      "name": "python"
    },
    "accelerator": "GPU"
  },
  "cells": [
    {
      "cell_type": "code",
      "metadata": {
        "id": "ku1AUGn3ox5s"
      },
      "source": [
        "import pandas as pd\n",
        "import string\n",
        "import re\n",
        "import matplotlib.pyplot as plt"
      ],
      "execution_count": 71,
      "outputs": []
    },
    {
      "cell_type": "markdown",
      "metadata": {
        "id": "BJIVwJMhGO2R"
      },
      "source": [
        "#Data Set"
      ]
    },
    {
      "cell_type": "code",
      "metadata": {
        "id": "y88HS1WFspDl"
      },
      "source": [
        "messages=pd.read_csv('/content/Spam dataset.csv',)"
      ],
      "execution_count": 4,
      "outputs": []
    },
    {
      "cell_type": "code",
      "metadata": {
        "colab": {
          "base_uri": "https://localhost:8080/",
          "height": 206
        },
        "id": "pFYVxuqEtYkc",
        "outputId": "248f3ce4-948c-453f-a746-903799eaed3c"
      },
      "source": [
        "messages.head()"
      ],
      "execution_count": 5,
      "outputs": [
        {
          "output_type": "execute_result",
          "data": {
            "text/html": [
              "\n",
              "  <div id=\"df-6839b110-3b0d-4a85-942b-b026d4d8bce4\">\n",
              "    <div class=\"colab-df-container\">\n",
              "      <div>\n",
              "<style scoped>\n",
              "    .dataframe tbody tr th:only-of-type {\n",
              "        vertical-align: middle;\n",
              "    }\n",
              "\n",
              "    .dataframe tbody tr th {\n",
              "        vertical-align: top;\n",
              "    }\n",
              "\n",
              "    .dataframe thead th {\n",
              "        text-align: right;\n",
              "    }\n",
              "</style>\n",
              "<table border=\"1\" class=\"dataframe\">\n",
              "  <thead>\n",
              "    <tr style=\"text-align: right;\">\n",
              "      <th></th>\n",
              "      <th>Category</th>\n",
              "      <th>Message</th>\n",
              "    </tr>\n",
              "  </thead>\n",
              "  <tbody>\n",
              "    <tr>\n",
              "      <th>0</th>\n",
              "      <td>ham</td>\n",
              "      <td>Go until jurong point, crazy.. Available only ...</td>\n",
              "    </tr>\n",
              "    <tr>\n",
              "      <th>1</th>\n",
              "      <td>ham</td>\n",
              "      <td>Ok lar... Joking wif u oni...</td>\n",
              "    </tr>\n",
              "    <tr>\n",
              "      <th>2</th>\n",
              "      <td>spam</td>\n",
              "      <td>Free entry in 2 a wkly comp to win FA Cup fina...</td>\n",
              "    </tr>\n",
              "    <tr>\n",
              "      <th>3</th>\n",
              "      <td>ham</td>\n",
              "      <td>U dun say so early hor... U c already then say...</td>\n",
              "    </tr>\n",
              "    <tr>\n",
              "      <th>4</th>\n",
              "      <td>ham</td>\n",
              "      <td>Nah I don't think he goes to usf, he lives aro...</td>\n",
              "    </tr>\n",
              "  </tbody>\n",
              "</table>\n",
              "</div>\n",
              "      <button class=\"colab-df-convert\" onclick=\"convertToInteractive('df-6839b110-3b0d-4a85-942b-b026d4d8bce4')\"\n",
              "              title=\"Convert this dataframe to an interactive table.\"\n",
              "              style=\"display:none;\">\n",
              "        \n",
              "  <svg xmlns=\"http://www.w3.org/2000/svg\" height=\"24px\"viewBox=\"0 0 24 24\"\n",
              "       width=\"24px\">\n",
              "    <path d=\"M0 0h24v24H0V0z\" fill=\"none\"/>\n",
              "    <path d=\"M18.56 5.44l.94 2.06.94-2.06 2.06-.94-2.06-.94-.94-2.06-.94 2.06-2.06.94zm-11 1L8.5 8.5l.94-2.06 2.06-.94-2.06-.94L8.5 2.5l-.94 2.06-2.06.94zm10 10l.94 2.06.94-2.06 2.06-.94-2.06-.94-.94-2.06-.94 2.06-2.06.94z\"/><path d=\"M17.41 7.96l-1.37-1.37c-.4-.4-.92-.59-1.43-.59-.52 0-1.04.2-1.43.59L10.3 9.45l-7.72 7.72c-.78.78-.78 2.05 0 2.83L4 21.41c.39.39.9.59 1.41.59.51 0 1.02-.2 1.41-.59l7.78-7.78 2.81-2.81c.8-.78.8-2.07 0-2.86zM5.41 20L4 18.59l7.72-7.72 1.47 1.35L5.41 20z\"/>\n",
              "  </svg>\n",
              "      </button>\n",
              "      \n",
              "  <style>\n",
              "    .colab-df-container {\n",
              "      display:flex;\n",
              "      flex-wrap:wrap;\n",
              "      gap: 12px;\n",
              "    }\n",
              "\n",
              "    .colab-df-convert {\n",
              "      background-color: #E8F0FE;\n",
              "      border: none;\n",
              "      border-radius: 50%;\n",
              "      cursor: pointer;\n",
              "      display: none;\n",
              "      fill: #1967D2;\n",
              "      height: 32px;\n",
              "      padding: 0 0 0 0;\n",
              "      width: 32px;\n",
              "    }\n",
              "\n",
              "    .colab-df-convert:hover {\n",
              "      background-color: #E2EBFA;\n",
              "      box-shadow: 0px 1px 2px rgba(60, 64, 67, 0.3), 0px 1px 3px 1px rgba(60, 64, 67, 0.15);\n",
              "      fill: #174EA6;\n",
              "    }\n",
              "\n",
              "    [theme=dark] .colab-df-convert {\n",
              "      background-color: #3B4455;\n",
              "      fill: #D2E3FC;\n",
              "    }\n",
              "\n",
              "    [theme=dark] .colab-df-convert:hover {\n",
              "      background-color: #434B5C;\n",
              "      box-shadow: 0px 1px 3px 1px rgba(0, 0, 0, 0.15);\n",
              "      filter: drop-shadow(0px 1px 2px rgba(0, 0, 0, 0.3));\n",
              "      fill: #FFFFFF;\n",
              "    }\n",
              "  </style>\n",
              "\n",
              "      <script>\n",
              "        const buttonEl =\n",
              "          document.querySelector('#df-6839b110-3b0d-4a85-942b-b026d4d8bce4 button.colab-df-convert');\n",
              "        buttonEl.style.display =\n",
              "          google.colab.kernel.accessAllowed ? 'block' : 'none';\n",
              "\n",
              "        async function convertToInteractive(key) {\n",
              "          const element = document.querySelector('#df-6839b110-3b0d-4a85-942b-b026d4d8bce4');\n",
              "          const dataTable =\n",
              "            await google.colab.kernel.invokeFunction('convertToInteractive',\n",
              "                                                     [key], {});\n",
              "          if (!dataTable) return;\n",
              "\n",
              "          const docLinkHtml = 'Like what you see? Visit the ' +\n",
              "            '<a target=\"_blank\" href=https://colab.research.google.com/notebooks/data_table.ipynb>data table notebook</a>'\n",
              "            + ' to learn more about interactive tables.';\n",
              "          element.innerHTML = '';\n",
              "          dataTable['output_type'] = 'display_data';\n",
              "          await google.colab.output.renderOutput(dataTable, element);\n",
              "          const docLink = document.createElement('div');\n",
              "          docLink.innerHTML = docLinkHtml;\n",
              "          element.appendChild(docLink);\n",
              "        }\n",
              "      </script>\n",
              "    </div>\n",
              "  </div>\n",
              "  "
            ],
            "text/plain": [
              "  Category                                            Message\n",
              "0      ham  Go until jurong point, crazy.. Available only ...\n",
              "1      ham                      Ok lar... Joking wif u oni...\n",
              "2     spam  Free entry in 2 a wkly comp to win FA Cup fina...\n",
              "3      ham  U dun say so early hor... U c already then say...\n",
              "4      ham  Nah I don't think he goes to usf, he lives aro..."
            ]
          },
          "metadata": {},
          "execution_count": 5
        }
      ]
    },
    {
      "cell_type": "code",
      "metadata": {
        "colab": {
          "base_uri": "https://localhost:8080/",
          "height": 174
        },
        "id": "621UEUWBtd0E",
        "outputId": "f93d9726-e4a8-487b-b881-db79c405da8d"
      },
      "source": [
        "messages.describe()"
      ],
      "execution_count": 6,
      "outputs": [
        {
          "output_type": "execute_result",
          "data": {
            "text/html": [
              "\n",
              "  <div id=\"df-9397be92-5d12-4be3-be29-ac0a03d3ff23\">\n",
              "    <div class=\"colab-df-container\">\n",
              "      <div>\n",
              "<style scoped>\n",
              "    .dataframe tbody tr th:only-of-type {\n",
              "        vertical-align: middle;\n",
              "    }\n",
              "\n",
              "    .dataframe tbody tr th {\n",
              "        vertical-align: top;\n",
              "    }\n",
              "\n",
              "    .dataframe thead th {\n",
              "        text-align: right;\n",
              "    }\n",
              "</style>\n",
              "<table border=\"1\" class=\"dataframe\">\n",
              "  <thead>\n",
              "    <tr style=\"text-align: right;\">\n",
              "      <th></th>\n",
              "      <th>Category</th>\n",
              "      <th>Message</th>\n",
              "    </tr>\n",
              "  </thead>\n",
              "  <tbody>\n",
              "    <tr>\n",
              "      <th>count</th>\n",
              "      <td>5572</td>\n",
              "      <td>5572</td>\n",
              "    </tr>\n",
              "    <tr>\n",
              "      <th>unique</th>\n",
              "      <td>2</td>\n",
              "      <td>5157</td>\n",
              "    </tr>\n",
              "    <tr>\n",
              "      <th>top</th>\n",
              "      <td>ham</td>\n",
              "      <td>Sorry, I'll call later</td>\n",
              "    </tr>\n",
              "    <tr>\n",
              "      <th>freq</th>\n",
              "      <td>4825</td>\n",
              "      <td>30</td>\n",
              "    </tr>\n",
              "  </tbody>\n",
              "</table>\n",
              "</div>\n",
              "      <button class=\"colab-df-convert\" onclick=\"convertToInteractive('df-9397be92-5d12-4be3-be29-ac0a03d3ff23')\"\n",
              "              title=\"Convert this dataframe to an interactive table.\"\n",
              "              style=\"display:none;\">\n",
              "        \n",
              "  <svg xmlns=\"http://www.w3.org/2000/svg\" height=\"24px\"viewBox=\"0 0 24 24\"\n",
              "       width=\"24px\">\n",
              "    <path d=\"M0 0h24v24H0V0z\" fill=\"none\"/>\n",
              "    <path d=\"M18.56 5.44l.94 2.06.94-2.06 2.06-.94-2.06-.94-.94-2.06-.94 2.06-2.06.94zm-11 1L8.5 8.5l.94-2.06 2.06-.94-2.06-.94L8.5 2.5l-.94 2.06-2.06.94zm10 10l.94 2.06.94-2.06 2.06-.94-2.06-.94-.94-2.06-.94 2.06-2.06.94z\"/><path d=\"M17.41 7.96l-1.37-1.37c-.4-.4-.92-.59-1.43-.59-.52 0-1.04.2-1.43.59L10.3 9.45l-7.72 7.72c-.78.78-.78 2.05 0 2.83L4 21.41c.39.39.9.59 1.41.59.51 0 1.02-.2 1.41-.59l7.78-7.78 2.81-2.81c.8-.78.8-2.07 0-2.86zM5.41 20L4 18.59l7.72-7.72 1.47 1.35L5.41 20z\"/>\n",
              "  </svg>\n",
              "      </button>\n",
              "      \n",
              "  <style>\n",
              "    .colab-df-container {\n",
              "      display:flex;\n",
              "      flex-wrap:wrap;\n",
              "      gap: 12px;\n",
              "    }\n",
              "\n",
              "    .colab-df-convert {\n",
              "      background-color: #E8F0FE;\n",
              "      border: none;\n",
              "      border-radius: 50%;\n",
              "      cursor: pointer;\n",
              "      display: none;\n",
              "      fill: #1967D2;\n",
              "      height: 32px;\n",
              "      padding: 0 0 0 0;\n",
              "      width: 32px;\n",
              "    }\n",
              "\n",
              "    .colab-df-convert:hover {\n",
              "      background-color: #E2EBFA;\n",
              "      box-shadow: 0px 1px 2px rgba(60, 64, 67, 0.3), 0px 1px 3px 1px rgba(60, 64, 67, 0.15);\n",
              "      fill: #174EA6;\n",
              "    }\n",
              "\n",
              "    [theme=dark] .colab-df-convert {\n",
              "      background-color: #3B4455;\n",
              "      fill: #D2E3FC;\n",
              "    }\n",
              "\n",
              "    [theme=dark] .colab-df-convert:hover {\n",
              "      background-color: #434B5C;\n",
              "      box-shadow: 0px 1px 3px 1px rgba(0, 0, 0, 0.15);\n",
              "      filter: drop-shadow(0px 1px 2px rgba(0, 0, 0, 0.3));\n",
              "      fill: #FFFFFF;\n",
              "    }\n",
              "  </style>\n",
              "\n",
              "      <script>\n",
              "        const buttonEl =\n",
              "          document.querySelector('#df-9397be92-5d12-4be3-be29-ac0a03d3ff23 button.colab-df-convert');\n",
              "        buttonEl.style.display =\n",
              "          google.colab.kernel.accessAllowed ? 'block' : 'none';\n",
              "\n",
              "        async function convertToInteractive(key) {\n",
              "          const element = document.querySelector('#df-9397be92-5d12-4be3-be29-ac0a03d3ff23');\n",
              "          const dataTable =\n",
              "            await google.colab.kernel.invokeFunction('convertToInteractive',\n",
              "                                                     [key], {});\n",
              "          if (!dataTable) return;\n",
              "\n",
              "          const docLinkHtml = 'Like what you see? Visit the ' +\n",
              "            '<a target=\"_blank\" href=https://colab.research.google.com/notebooks/data_table.ipynb>data table notebook</a>'\n",
              "            + ' to learn more about interactive tables.';\n",
              "          element.innerHTML = '';\n",
              "          dataTable['output_type'] = 'display_data';\n",
              "          await google.colab.output.renderOutput(dataTable, element);\n",
              "          const docLink = document.createElement('div');\n",
              "          docLink.innerHTML = docLinkHtml;\n",
              "          element.appendChild(docLink);\n",
              "        }\n",
              "      </script>\n",
              "    </div>\n",
              "  </div>\n",
              "  "
            ],
            "text/plain": [
              "       Category                 Message\n",
              "count      5572                    5572\n",
              "unique        2                    5157\n",
              "top         ham  Sorry, I'll call later\n",
              "freq       4825                      30"
            ]
          },
          "metadata": {},
          "execution_count": 6
        }
      ]
    },
    {
      "cell_type": "markdown",
      "metadata": {
        "id": "attDTV2CGc8_"
      },
      "source": [
        "#Data Cleaning"
      ]
    },
    {
      "cell_type": "code",
      "metadata": {
        "colab": {
          "base_uri": "https://localhost:8080/"
        },
        "id": "IVOJFcRutoZf",
        "outputId": "952aa1a0-e3cb-40e8-804f-7f35b128ecd2"
      },
      "source": [
        "import nltk\n",
        "nltk.download('stopwords')\n",
        "from nltk.corpus import stopwords"
      ],
      "execution_count": 7,
      "outputs": [
        {
          "output_type": "stream",
          "name": "stdout",
          "text": [
            "[nltk_data] Downloading package stopwords to /root/nltk_data...\n",
            "[nltk_data]   Unzipping corpora/stopwords.zip.\n"
          ]
        }
      ]
    },
    {
      "cell_type": "code",
      "metadata": {
        "colab": {
          "base_uri": "https://localhost:8080/",
          "height": 35
        },
        "id": "RMugemgeuIkW",
        "outputId": "40891116-28a6-4fb9-8e30-5939ef7b8c36"
      },
      "source": [
        "string.punctuation"
      ],
      "execution_count": 8,
      "outputs": [
        {
          "output_type": "execute_result",
          "data": {
            "application/vnd.google.colaboratory.intrinsic+json": {
              "type": "string"
            },
            "text/plain": [
              "'!\"#$%&\\'()*+,-./:;<=>?@[\\\\]^_`{|}~'"
            ]
          },
          "metadata": {},
          "execution_count": 8
        }
      ]
    },
    {
      "cell_type": "code",
      "metadata": {
        "id": "ShG9Uah1uXW2"
      },
      "source": [
        "def text_process(mess):\n",
        "    nopunc=[char for char in mess if char not in string.punctuation]\n",
        "    \n",
        "    nopunc=''.join(nopunc)\n",
        "    \n",
        "    return [word for word in nopunc.split() if word.lower() not in stopwords.words('english') ]"
      ],
      "execution_count": 9,
      "outputs": []
    },
    {
      "cell_type": "code",
      "metadata": {
        "colab": {
          "base_uri": "https://localhost:8080/"
        },
        "id": "3vywaLfGurk_",
        "outputId": "0d08b872-fa4d-4a3c-b56c-bd685a5089a3"
      },
      "source": [
        "messages['Message'].head(5).apply(text_process)"
      ],
      "execution_count": 10,
      "outputs": [
        {
          "output_type": "execute_result",
          "data": {
            "text/plain": [
              "0    [Go, jurong, point, crazy, Available, bugis, n...\n",
              "1                       [Ok, lar, Joking, wif, u, oni]\n",
              "2    [Free, entry, 2, wkly, comp, win, FA, Cup, fin...\n",
              "3        [U, dun, say, early, hor, U, c, already, say]\n",
              "4    [Nah, dont, think, goes, usf, lives, around, t...\n",
              "Name: Message, dtype: object"
            ]
          },
          "metadata": {},
          "execution_count": 10
        }
      ]
    },
    {
      "cell_type": "code",
      "metadata": {
        "id": "AVMvzEihuuwV",
        "colab": {
          "base_uri": "https://localhost:8080/"
        },
        "outputId": "18ee8b11-b40f-48fa-a445-e4742fcb5d7a"
      },
      "source": [
        "messages['Message']"
      ],
      "execution_count": 11,
      "outputs": [
        {
          "output_type": "execute_result",
          "data": {
            "text/plain": [
              "0       Go until jurong point, crazy.. Available only ...\n",
              "1                           Ok lar... Joking wif u oni...\n",
              "2       Free entry in 2 a wkly comp to win FA Cup fina...\n",
              "3       U dun say so early hor... U c already then say...\n",
              "4       Nah I don't think he goes to usf, he lives aro...\n",
              "                              ...                        \n",
              "5567    This is the 2nd time we have tried 2 contact u...\n",
              "5568                 Will ü b going to esplanade fr home?\n",
              "5569    Pity, * was in mood for that. So...any other s...\n",
              "5570    The guy did some bitching but I acted like i'd...\n",
              "5571                           Rofl. Its true to its name\n",
              "Name: Message, Length: 5572, dtype: object"
            ]
          },
          "metadata": {},
          "execution_count": 11
        }
      ]
    },
    {
      "cell_type": "code",
      "metadata": {
        "id": "2STp8nkO-hxf"
      },
      "source": [
        "df=messages['Message']"
      ],
      "execution_count": 12,
      "outputs": []
    },
    {
      "cell_type": "code",
      "metadata": {
        "id": "GEX1iWkYijy5"
      },
      "source": [
        "processed = df.str.replace(r'\\b[\\w\\-.]+?@\\w+?\\.\\w{2,4}\\b',\n",
        "                                 'emailaddr')\n",
        "processed = processed.str.replace(r'(http[s]?\\S+)|(\\w+\\.[A-Za-z]{2,4}\\S*)',\n",
        "                                  'httpaddr')\n",
        "processed = processed.str.replace(r'£|\\$', 'moneysymb')    \n",
        "processed = processed.str.replace(\n",
        "    r'\\b(\\+\\d{1,2}\\s)?\\d?[\\-(.]?\\d{3}\\)?[\\s.-]?\\d{3}[\\s.-]?\\d{4}\\b',\n",
        "    'phonenumbr')    \n",
        "processed = processed.str.replace(r'\\d+(\\.\\d+)?', 'numbr')"
      ],
      "execution_count": 13,
      "outputs": []
    },
    {
      "cell_type": "code",
      "metadata": {
        "id": "xpBzuQ0r-UHY"
      },
      "source": [
        "processed = processed.str.replace(r'[^\\w\\d\\s]', ' ')\n",
        "processed = processed.str.replace(r'\\s+', ' ')\n",
        "processed = processed.str.replace(r'^\\s+|\\s+?$', '')"
      ],
      "execution_count": 14,
      "outputs": []
    },
    {
      "cell_type": "code",
      "metadata": {
        "id": "Fq0n_qA7-x8p"
      },
      "source": [
        "processed = processed.str.lower()"
      ],
      "execution_count": 15,
      "outputs": []
    },
    {
      "cell_type": "markdown",
      "metadata": {
        "id": "lZMcKppZG4gR"
      },
      "source": [
        "#Data Processing"
      ]
    },
    {
      "cell_type": "code",
      "metadata": {
        "id": "RCrgSdSfHLT8"
      },
      "source": [
        "spams=' '.join (messages['Message'])"
      ],
      "execution_count": 16,
      "outputs": []
    },
    {
      "cell_type": "code",
      "metadata": {
        "id": "m35wQJBWHmF8"
      },
      "source": [
        "nltk.regexp_tokenize(spams,r'[A-Z]\\w+')"
      ],
      "execution_count": null,
      "outputs": []
    },
    {
      "cell_type": "code",
      "metadata": {
        "id": "LmMYJRuyHvYS"
      },
      "source": [
        "filtered_tokens=[]\n",
        "for token in spams.split():\n",
        "  if token not in stop_words:\n",
        "    word=re.sub(r'[!\"#\\$\\%\\&\\'()*+,-./:;<=>?@[\\\\]^_`{|}~]+','',token)\n",
        "    if word != '':\n",
        "      filtered_tokens.append(word)"
      ],
      "execution_count": 26,
      "outputs": []
    },
    {
      "cell_type": "code",
      "metadata": {
        "id": "tmJEoVtIJbZE"
      },
      "source": [
        "filtered_tokens"
      ],
      "execution_count": null,
      "outputs": []
    },
    {
      "cell_type": "markdown",
      "metadata": {
        "id": "-ES6YueUHkCD"
      },
      "source": [
        ""
      ]
    },
    {
      "cell_type": "markdown",
      "metadata": {
        "id": "QyCXiWVe_Fma"
      },
      "source": [
        "#Removing stop words"
      ]
    },
    {
      "cell_type": "code",
      "metadata": {
        "id": "NbL0ka-G_AZV"
      },
      "source": [
        "stop_words = nltk.corpus.stopwords.words('english')"
      ],
      "execution_count": 28,
      "outputs": []
    },
    {
      "cell_type": "code",
      "metadata": {
        "id": "66maYrSS-1iJ"
      },
      "source": [
        "processed = processed.apply(lambda x: ' '.join(\n",
        "    term for term in x.split() if term not in set(stop_words))\n",
        ")"
      ],
      "execution_count": 29,
      "outputs": []
    },
    {
      "cell_type": "markdown",
      "metadata": {
        "id": "Mn5W7t21_Kly"
      },
      "source": [
        "#Stemming"
      ]
    },
    {
      "cell_type": "code",
      "metadata": {
        "id": "3OaP9ye_-4me"
      },
      "source": [
        "porter = nltk.PorterStemmer()\n",
        "processed = processed.apply(lambda x: ' '.join(\n",
        "    porter.stem(term) for term in x.split())\n",
        ")"
      ],
      "execution_count": 30,
      "outputs": []
    },
    {
      "cell_type": "code",
      "metadata": {
        "id": "wyzfBXTy_RLK"
      },
      "source": [
        "def preprocess_text(messy_string):\n",
        "    assert(type(messy_string) == str)\n",
        "    cleaned = re.sub(r'\\b[\\w\\-.]+?@\\w+?\\.\\w{2,4}\\b', 'emailaddr', messy_string)\n",
        "    cleaned = re.sub(r'(http[s]?\\S+)|(\\w+\\.[A-Za-z]{2,4}\\S*)', 'httpaddr',\n",
        "                     cleaned)\n",
        "    cleaned = re.sub(r'£|\\$', 'moneysymb', cleaned)\n",
        "    cleaned = re.sub(\n",
        "        r'\\b(\\+\\d{1,2}\\s)?\\d?[\\-(.]?\\d{3}\\)?[\\s.-]?\\d{3}[\\s.-]?\\d{4}\\b',\n",
        "        'phonenumbr', cleaned)\n",
        "    cleaned = re.sub(r'\\d+(\\.\\d+)?', 'numbr', cleaned)\n",
        "    cleaned = re.sub(r'[^\\w\\d\\s]', ' ', cleaned)\n",
        "    cleaned = re.sub(r'\\s+', ' ', cleaned)\n",
        "    cleaned = re.sub(r'^\\s+|\\s+?$', '', cleaned.lower())\n",
        "    return ' '.join(\n",
        "        porter.stem(term) \n",
        "        for term in cleaned.split()\n",
        "        if term not in set(stop_words)\n",
        "    )"
      ],
      "execution_count": 31,
      "outputs": []
    },
    {
      "cell_type": "code",
      "metadata": {
        "colab": {
          "base_uri": "https://localhost:8080/"
        },
        "id": "d7uUGuiI_UlY",
        "outputId": "1aef1714-cbe6-414e-d4bc-915548799af6"
      },
      "source": [
        "(processed == df.apply(preprocess_text)).all()"
      ],
      "execution_count": 33,
      "outputs": [
        {
          "output_type": "execute_result",
          "data": {
            "text/plain": [
              "True"
            ]
          },
          "metadata": {},
          "execution_count": 33
        }
      ]
    },
    {
      "cell_type": "code",
      "metadata": {
        "colab": {
          "base_uri": "https://localhost:8080/"
        },
        "id": "VocySSqp_ZP9",
        "outputId": "ab03af85-d1e1-400c-cd56-45b5d372616e"
      },
      "source": [
        "print(processed)"
      ],
      "execution_count": 34,
      "outputs": [
        {
          "output_type": "stream",
          "name": "stdout",
          "text": [
            "0       go jurong point crazi avail bugi n great world...\n",
            "1                                   ok lar joke wif u oni\n",
            "2       free entri numbr wkli comp win fa cup final tk...\n",
            "3                     u dun say earli hor u c alreadi say\n",
            "4                    nah think goe usf live around though\n",
            "                              ...                        \n",
            "5567    numbrnd time tri numbr contact u u moneysymbnu...\n",
            "5568                              ü b go esplanad fr home\n",
            "5569                                    piti mood suggest\n",
            "5570    guy bitch act like interest buy someth els nex...\n",
            "5571                                       rofl true name\n",
            "Name: Message, Length: 5572, dtype: object\n"
          ]
        }
      ]
    },
    {
      "cell_type": "markdown",
      "source": [
        "#N-Gram"
      ],
      "metadata": {
        "id": "psVzbJIeLDPX"
      }
    },
    {
      "cell_type": "markdown",
      "source": [
        "![N-grams.png](data:image/png;base64,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)"
      ],
      "metadata": {
        "id": "8OLoFuFxLanS"
      }
    },
    {
      "cell_type": "code",
      "source": [
        "from collections import defaultdict"
      ],
      "metadata": {
        "id": "bJT25pefNYwI"
      },
      "execution_count": 44,
      "outputs": []
    },
    {
      "cell_type": "code",
      "source": [
        "#get the count of every word in both the columns of df_train and df_test dataframes\n",
        "hamValues=defaultdict(int)\n",
        "spamValues=defaultdict(int)"
      ],
      "metadata": {
        "id": "-9gFkQqPNbn-"
      },
      "execution_count": 52,
      "outputs": []
    },
    {
      "cell_type": "code",
      "source": [
        "def generate_N_grams(text,ngram=1):\n",
        "  words=[word for word in text.split(\" \") if word not in set(stopwords.words('english'))]  \n",
        "  print(\"Sentence after removing stopwords:\",words)\n",
        "  temp=zip(*[words[i:] for i in range(0,ngram)])\n",
        "  ans=[' '.join(ngram) for ngram in temp]\n",
        "  return ans"
      ],
      "metadata": {
        "id": "TnRKa8VvSGbm"
      },
      "execution_count": 58,
      "outputs": []
    },
    {
      "cell_type": "markdown",
      "source": [
        "##Unigram"
      ],
      "metadata": {
        "id": "eeJJRRsNZBi_"
      }
    },
    {
      "cell_type": "code",
      "source": [
        "#get the count of every word in both the columns of dataSet dataframes where Category=\"ham\"\n",
        "for text in messages[messages.Category=='ham'].Message:\n",
        "  for word in generate_N_grams(text):\n",
        "    hamValues[word]+=1"
      ],
      "metadata": {
        "id": "zl6dq-iBOFp9"
      },
      "execution_count": null,
      "outputs": []
    },
    {
      "cell_type": "code",
      "source": [
        "hamValues"
      ],
      "metadata": {
        "id": "lK634qO0S8mN"
      },
      "execution_count": null,
      "outputs": []
    },
    {
      "cell_type": "code",
      "source": [
        "#get the count of every word in both the columns of dataSet dataframes where Category=\"Spam\"\n",
        "for text in messages[messages.Category=='spam'].Message:\n",
        "  for word in generate_N_grams(text):\n",
        "    spamValues[word]+=1"
      ],
      "metadata": {
        "id": "-ZNRiIrdTKd3"
      },
      "execution_count": null,
      "outputs": []
    },
    {
      "cell_type": "code",
      "source": [
        "spamValues"
      ],
      "metadata": {
        "id": "WQSQEFYSTk7H"
      },
      "execution_count": null,
      "outputs": []
    },
    {
      "cell_type": "code",
      "source": [
        "#sort in DO wrt 2nd column in each of hamValues,spamValues\n",
        "df_Ham=pd.DataFrame(sorted(hamValues.items(),key=lambda x:x[1],reverse=True))\n",
        "df_Spam=pd.DataFrame(sorted(spamValues.items(),key=lambda x:x[1],reverse=True))"
      ],
      "metadata": {
        "id": "T2f0wS9yUEka"
      },
      "execution_count": 66,
      "outputs": []
    },
    {
      "cell_type": "code",
      "source": [
        "pd1=df_Ham[0][:10]\n",
        "pd2=df_Ham[1][:10]"
      ],
      "metadata": {
        "id": "ptTzFjwQUYcC"
      },
      "execution_count": 69,
      "outputs": []
    },
    {
      "cell_type": "code",
      "source": [
        "ned1=df_Spam[0][:10]\n",
        "ned2=df_Spam[1][:10]"
      ],
      "metadata": {
        "id": "6ZLeLxthUniT"
      },
      "execution_count": 70,
      "outputs": []
    },
    {
      "cell_type": "code",
      "source": [
        "plt.figure(1,figsize=(16,4))\n",
        "plt.bar(pd1,pd2, color ='green',\n",
        "        width = 0.4)\n",
        "plt.xlabel(\"Words in Ham dataframe\")\n",
        "plt.ylabel(\"Count\")\n",
        "plt.title(\"Top 10 words in Ham dataframe-UNIGRAM ANALYSIS\")\n",
        "plt.savefig(\"Ham-unigram.png\")\n",
        "plt.show()"
      ],
      "metadata": {
        "colab": {
          "base_uri": "https://localhost:8080/",
          "height": 295
        },
        "id": "Ai0ZpTRUUstr",
        "outputId": "cfcaebeb-1e81-4bdf-81da-dfcf15a98b5b"
      },
      "execution_count": 77,
      "outputs": [
        {
          "output_type": "display_data",
          "data": {
            "image/png": "[encoded data removed]",
            "text/plain": [
              "<Figure size 1152x288 with 1 Axes>"
            ]
          },
          "metadata": {
            "needs_background": "light"
          }
        }
      ]
    },
    {
      "cell_type": "code",
      "source": [
        "plt.figure(1,figsize=(16,4))\n",
        "plt.bar(ned1,ned2, color ='red',\n",
        "        width = 0.4)\n",
        "plt.xlabel(\"Words in Spam dataframe\")\n",
        "plt.ylabel(\"Count\")\n",
        "plt.title(\"Top 10 words in Spam dataframe-UNIGRAM ANALYSIS\")\n",
        "plt.savefig(\"Spam-unigram.png\")\n",
        "plt.show()"
      ],
      "metadata": {
        "colab": {
          "base_uri": "https://localhost:8080/",
          "height": 295
        },
        "id": "CtY4QMHvVNaZ",
        "outputId": "23d1e061-f768-4a65-c948-f0bc33b1e833"
      },
      "execution_count": 78,
      "outputs": [
        {
          "output_type": "display_data",
          "data": {
            "image/png": "[encoded data removed]",
            "text/plain": [
              "<Figure size 1152x288 with 1 Axes>"
            ]
          },
          "metadata": {
            "needs_background": "light"
          }
        }
      ]
    },
    {
      "cell_type": "markdown",
      "source": [
        "#Bigram"
      ],
      "metadata": {
        "id": "6t0A7w39ZzCY"
      }
    },
    {
      "cell_type": "code",
      "source": [
        "#get the count of every word in both the columns of dataSet dataframes where Category=\"ham\"\n",
        "hamValues2=defaultdict(int)\n",
        "spamValues2=defaultdict(int)"
      ],
      "metadata": {
        "id": "D3ISnw10W0wD"
      },
      "execution_count": 89,
      "outputs": []
    },
    {
      "cell_type": "code",
      "source": [
        "#get the count of every word in both the columns of dataSet dataframes where Category=\"ham\"\n",
        "for text in messages[messages.Category=='ham'].Message:\n",
        "  for word in generate_N_grams(text,2):\n",
        "    hamValues2[word]+=1"
      ],
      "metadata": {
        "id": "zmvb5ZMkW57x"
      },
      "execution_count": null,
      "outputs": []
    },
    {
      "cell_type": "code",
      "source": [
        "#get the count of every word in both the columns of dataSet dataframes where Category=\"Spam\"\n",
        "for text in messages[messages.Category=='spam'].Message:\n",
        "  for word in generate_N_grams(text,2):\n",
        "    spamValues2[word]+=1"
      ],
      "metadata": {
        "id": "jgFKLXR8XSky"
      },
      "execution_count": null,
      "outputs": []
    },
    {
      "cell_type": "code",
      "source": [
        "#sort in DO wrt 2nd column in each of hamValues,spamValues\n",
        "df_Ham2=pd.DataFrame(sorted(hamValues2.items(),key=lambda x:x[1],reverse=True))\n",
        "df_Spam2=pd.DataFrame(sorted(spamValues2.items(),key=lambda x:x[1],reverse=True))"
      ],
      "metadata": {
        "id": "NmUsAu9AXnag"
      },
      "execution_count": 92,
      "outputs": []
    },
    {
      "cell_type": "code",
      "source": [
        "pd1BI=df_Ham2[0][:10]\n",
        "pd2BI=df_Ham2[1][:10]"
      ],
      "metadata": {
        "id": "crUkDEZ7X8nf"
      },
      "execution_count": 93,
      "outputs": []
    },
    {
      "cell_type": "code",
      "source": [
        "ned1BI=df_Spam2[0][:10]\n",
        "ned2BI=df_Spam2[1][:10]"
      ],
      "metadata": {
        "id": "Kksi6tXUYJ0Z"
      },
      "execution_count": 94,
      "outputs": []
    },
    {
      "cell_type": "code",
      "source": [
        "plt.figure(1,figsize=(16,4))\n",
        "plt.bar(pd1BI,pd2BI, color ='green',\n",
        "        width = 0.4)\n",
        "plt.xlabel(\"Words in Ham dataframe\")\n",
        "plt.ylabel(\"Count\")\n",
        "plt.title(\"Top 10 words in Ham dataframe-BIGRAM ANALYSIS\")\n",
        "plt.savefig(\"Ham-Bigram.png\")\n",
        "plt.show()"
      ],
      "metadata": {
        "colab": {
          "base_uri": "https://localhost:8080/",
          "height": 295
        },
        "id": "Pd-LcNWBYW9m",
        "outputId": "5a48bc82-ed10-4a62-cede-f4aab4519d37"
      },
      "execution_count": 95,
      "outputs": [
        {
          "output_type": "display_data",
          "data": {
            "image/png": "[encoded data removed]",
            "text/plain": [
              "<Figure size 1152x288 with 1 Axes>"
            ]
          },
          "metadata": {
            "needs_background": "light"
          }
        }
      ]
    },
    {
      "cell_type": "code",
      "source": [
        "plt.figure(1,figsize=(16,4))\n",
        "plt.bar(ned1BI,ned2BI, color ='red',\n",
        "        width = 0.4)\n",
        "plt.xlabel(\"Words in Spam dataframe\")\n",
        "plt.ylabel(\"Count\")\n",
        "plt.title(\"Top 10 words in Spam dataframe-BIGRAM ANALYSIS\")\n",
        "plt.savefig(\"Spam-Bigram.png\")\n",
        "plt.show()"
      ],
      "metadata": {
        "colab": {
          "base_uri": "https://localhost:8080/",
          "height": 295
        },
        "id": "3BTCfpIrYjyr",
        "outputId": "c604533c-2ba7-4aba-da00-a54542b2819c"
      },
      "execution_count": 96,
      "outputs": [
        {
          "output_type": "display_data",
          "data": {
            "image/png": "[encoded data removed]",
            "text/plain": [
              "<Figure size 1152x288 with 1 Axes>"
            ]
          },
          "metadata": {
            "needs_background": "light"
          }
        }
      ]
    },
    {
      "cell_type": "markdown",
      "source": [
        "#Trigram"
      ],
      "metadata": {
        "id": "9Mql2R28Ys2b"
      }
    },
    {
      "cell_type": "code",
      "source": [
        "#get the count of every word in both the columns of dataSet dataframes where Category=\"ham\"\n",
        "hamValues3=defaultdict(int)\n",
        "spamValues3=defaultdict(int)"
      ],
      "metadata": {
        "id": "V77tS4sGZXvY"
      },
      "execution_count": 88,
      "outputs": []
    },
    {
      "cell_type": "code",
      "source": [
        "#get the count of every word in both the columns of dataSet dataframes where Category=\"ham\"\n",
        "for text in messages[messages.Category=='ham'].Message:\n",
        "  for word in generate_N_grams(text,3):\n",
        "    hamValues3[word]+=1"
      ],
      "metadata": {
        "id": "LQUJXSZuahSf"
      },
      "execution_count": null,
      "outputs": []
    },
    {
      "cell_type": "code",
      "source": [
        "#get the count of every word in both the columns of dataSet dataframes where Category=\"Spam\"\n",
        "for text in messages[messages.Category=='spam'].Message:\n",
        "  for word in generate_N_grams(text,3):\n",
        "    spamValues3[word]+=1"
      ],
      "metadata": {
        "id": "0zI_KsaibFoR"
      },
      "execution_count": null,
      "outputs": []
    },
    {
      "cell_type": "code",
      "source": [
        "#sort in DO wrt 2nd column in each of hamValues,spamValues\n",
        "df_Ham3=pd.DataFrame(sorted(hamValues3.items(),key=lambda x:x[1],reverse=True))\n",
        "df_Spam3=pd.DataFrame(sorted(spamValues3.items(),key=lambda x:x[1],reverse=True))"
      ],
      "metadata": {
        "id": "4Jclb48Fa8qM"
      },
      "execution_count": 99,
      "outputs": []
    },
    {
      "cell_type": "code",
      "source": [
        "pd1TRI=df_Ham3[0][:10]\n",
        "pd2TRI=df_Ham3[1][:10]"
      ],
      "metadata": {
        "id": "bEGvLdXIbUSg"
      },
      "execution_count": 100,
      "outputs": []
    },
    {
      "cell_type": "code",
      "source": [
        "ned1TRI=df_Spam3[0][:10]\n",
        "ned2TRI=df_Spam3[1][:10]"
      ],
      "metadata": {
        "id": "nzmin3B8bg1B"
      },
      "execution_count": 101,
      "outputs": []
    },
    {
      "cell_type": "code",
      "source": [
        "plt.figure(1,figsize=(16,4))\n",
        "plt.bar(pd1TRI,pd2TRI, color ='green',\n",
        "        width = 0.4)\n",
        "plt.xlabel(\"Words in Ham dataframe\")\n",
        "plt.ylabel(\"Count\")\n",
        "plt.title(\"Top 10 words in Ham dataframe-TRIGRAM ANALYSIS\")\n",
        "plt.savefig(\"Ham-Trigram.png\")\n",
        "plt.show()"
      ],
      "metadata": {
        "id": "9LQMsCKWbpG-",
        "outputId": "29ab7439-d01e-4537-eaa6-0a177639af0c",
        "colab": {
          "base_uri": "https://localhost:8080/",
          "height": 295
        }
      },
      "execution_count": 102,
      "outputs": [
        {
          "output_type": "display_data",
          "data": {
            "image/png": "[encoded data removed]",
            "text/plain": [
              "<Figure size 1152x288 with 1 Axes>"
            ]
          },
          "metadata": {
            "needs_background": "light"
          }
        }
      ]
    },
    {
      "cell_type": "code",
      "source": [
        "plt.figure(1,figsize=(26,4))\n",
        "plt.bar(ned1TRI,ned2TRI, color ='red',\n",
        "        width = 0.2)\n",
        "plt.xlabel(\"Words in Spam dataframe\")\n",
        "plt.ylabel(\"Count\")\n",
        "plt.title(\"Top 10 words in Spam dataframe-TRIGRAM ANALYSIS\")\n",
        "plt.savefig(\"Spam-Trigram.png\")\n",
        "plt.show()"
      ],
      "metadata": {
        "id": "DF6_gyjeb7Ud",
        "outputId": "102832cd-77fc-4ad8-88fd-4ee1945c5903",
        "colab": {
          "base_uri": "https://localhost:8080/",
          "height": 269
        }
      },
      "execution_count": 107,
      "outputs": [
        {
          "output_type": "display_data",
          "data": {
            "image/png": "[encoded data removed]",
            "text/plain": [
              "<Figure size 1872x288 with 1 Axes>"
            ]
          },
          "metadata": {
            "needs_background": "light"
          }
        }
      ]
    },
    {
      "cell_type": "markdown",
      "source": [
        "#Feature extraction"
      ],
      "metadata": {
        "id": "QIqX90-vNJHp"
      }
    },
    {
      "cell_type": "code",
      "source": [
        "processed.values"
      ],
      "metadata": {
        "colab": {
          "base_uri": "https://localhost:8080/"
        },
        "id": "dortX3g6LFiE",
        "outputId": "57336a51-209d-4b46-85e0-1996df26091a"
      },
      "execution_count": 41,
      "outputs": [
        {
          "output_type": "execute_result",
          "data": {
            "text/plain": [
              "array(['go jurong point crazi avail bugi n great world la e buffet cine got amor wat',\n",
              "       'ok lar joke wif u oni',\n",
              "       'free entri numbr wkli comp win fa cup final tkt numbrst may numbr text fa numbr receiv entri question std txt rate c appli numbrovernumbr',\n",
              "       ..., 'piti mood suggest',\n",
              "       'guy bitch act like interest buy someth els next week gave us free',\n",
              "       'rofl true name'], dtype=object)"
            ]
          },
          "metadata": {},
          "execution_count": 41
        }
      ]
    }
  ]
}