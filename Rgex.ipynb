{
  "nbformat": 4,
  "nbformat_minor": 0,
  "metadata": {
    "colab": {
      "name": "Rgex.ipynb",
      "provenance": []
    },
    "kernelspec": {
      "name": "python3",
      "display_name": "Python 3"
    },
    "language_info": {
      "name": "python"
    }
  },
  "cells": [
    {
      "cell_type": "markdown",
      "metadata": {
        "id": "6jrJL1iyeZjc"
      },
      "source": [
        "Regular Expression"
      ]
    },
    {
      "cell_type": "code",
      "metadata": {
        "id": "WzheLEGmW-fG"
      },
      "source": [
        "import re\n",
        "string='email: emad@gmail.com other email is : emaddd@gmail.com. Emad@hotmail.com.eg phone number : 201155203801 other phone number : 202010045678, 2012345'\n"
      ],
      "execution_count": 1,
      "outputs": []
    },
    {
      "cell_type": "code",
      "metadata": {
        "id": "RHI0QHyjXOvm"
      },
      "source": [
        "def extractEmail(text):\n",
        "  lst=re.findall('([a-zA-Z0-9._-]+@[a-zA-Z0-9._-]+\\.[a-zA-Z0-9_-]+)',text)\n",
        "  return lst"
      ],
      "execution_count": 2,
      "outputs": []
    },
    {
      "cell_type": "code",
      "metadata": {
        "colab": {
          "base_uri": "https://localhost:8080/"
        },
        "id": "klGnPraQXgFc",
        "outputId": "233ea9f0-5766-48fd-e56f-4ad686ce6568"
      },
      "source": [
        "extractEmail(string)"
      ],
      "execution_count": 3,
      "outputs": [
        {
          "output_type": "execute_result",
          "data": {
            "text/plain": [
              "['emad@gmail.com', 'emaddd@gmail.com', 'Emad@hotmail.com.eg']"
            ]
          },
          "metadata": {},
          "execution_count": 3
        }
      ]
    },
    {
      "cell_type": "code",
      "metadata": {
        "id": "Fly6l1kwYdEq"
      },
      "source": [
        "def extractPhoneNumber(text):\n",
        "  numbers=re.findall('[20][0-9]{11}',text)\n",
        "  return numbers"
      ],
      "execution_count": 4,
      "outputs": []
    },
    {
      "cell_type": "code",
      "metadata": {
        "colab": {
          "base_uri": "https://localhost:8080/"
        },
        "id": "wIZnBJN3dkhA",
        "outputId": "5eb4480a-6bae-4082-e861-5013db971c7e"
      },
      "source": [
        "extractPhoneNumber(string)"
      ],
      "execution_count": 5,
      "outputs": [
        {
          "output_type": "execute_result",
          "data": {
            "text/plain": [
              "['201155203801', '202010045678']"
            ]
          },
          "metadata": {},
          "execution_count": 5
        }
      ]
    }
  ]
}